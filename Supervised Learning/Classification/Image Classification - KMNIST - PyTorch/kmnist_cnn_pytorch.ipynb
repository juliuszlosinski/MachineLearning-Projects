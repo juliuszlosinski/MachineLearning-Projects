{
 "cells": [
  {
   "cell_type": "code",
   "execution_count": 45,
   "metadata": {},
   "outputs": [],
   "source": [
    "import torch\n",
    "import torchvision\n",
    "from torch.utils.data import random_split\n",
    "from torch.utils.data import DataLoader\n",
    "from sklearn.metrics import classification_report\n",
    "import matplotlib.pyplot as plt"
   ]
  },
  {
   "cell_type": "code",
   "execution_count": 46,
   "metadata": {},
   "outputs": [],
   "source": [
    "class CNN(torch.nn.Module):\n",
    "    def __init__(self, number_of_channels, number_of_classes=10):\n",
    "        super(CNN, self).__init__()\n",
    "        self.conv_01 = torch.nn.Conv2d(\n",
    "            in_channels = number_of_channels,\n",
    "            out_channels = 20,\n",
    "            kernel_size = (5, 5)\n",
    "        )\n",
    "        self.relu_01 = torch.nn.ReLU()\n",
    "        self.max_pool_01 = torch.nn.MaxPool2d(\n",
    "            kernel_size=(2, 2), stride=(2, 2)\n",
    "        )\n",
    "        self.conv_02 = torch.nn.Conv2d(\n",
    "            in_channels=20,\n",
    "            out_channels=50,\n",
    "            kernel_size=(5, 5)\n",
    "        )\n",
    "        self.relu_02 = torch.nn.ReLU()\n",
    "        self.max_pool_02 = torch.nn.MaxPool2d(\n",
    "            kernel_size=(2, 2), stride=(2, 2)\n",
    "        )\n",
    "        self.fully_connected_01 = torch.nn.Linear(in_features=800, out_features=500)\n",
    "        self.relu_03 = torch.nn.ReLU()\n",
    "        \n",
    "        self.fully_connected_02 = torch.nn.Linear(in_features=500, out_features=number_of_classes)\n",
    "        self.log_softmax = torch.nn.LogSoftmax(dim=1)\n",
    "    \n",
    "    def forward(self, x):\n",
    "        x = self.conv_01(x)\n",
    "        x = self.relu_01(x)\n",
    "        x = self.max_pool_01(x)\n",
    "        \n",
    "        x = self.conv_02(x)\n",
    "        x = self.relu_02(x)\n",
    "        x = self.max_pool_02(x)\n",
    "        \n",
    "        x = torch.flatten(x, 1)\n",
    "        x = self.fully_connected_01(x)\n",
    "        x = self.relu_03(x)\n",
    "        \n",
    "        x = self.fully_connected_02(x)\n",
    "        output = self.log_softmax(x)\n",
    "        \n",
    "        return output"
   ]
  },
  {
   "cell_type": "code",
   "execution_count": 47,
   "metadata": {},
   "outputs": [],
   "source": [
    "init_learning_rate = 1e-3\n",
    "batch_size = 64\n",
    "epochs = 10\n",
    "\n",
    "train_split = 0.75\n",
    "validation_split = 0.25\n",
    "\n",
    "device = torch.device(\"cuda\" if torch.cuda.is_available() else \"cpu\")"
   ]
  },
  {
   "cell_type": "code",
   "execution_count": 48,
   "metadata": {},
   "outputs": [
    {
     "name": "stdout",
     "output_type": "stream",
     "text": [
      "Loading the KMNIST dataset...\n",
      "Generating the train/validation split\n"
     ]
    }
   ],
   "source": [
    "import numpy as np\n",
    "\n",
    "print(f\"Loading the KMNIST dataset...\")\n",
    "train_data = torchvision.datasets.KMNIST(root=\"data\",\n",
    "                train=False, download=True, transform=torchvision.transforms.ToTensor()\n",
    ")\n",
    "test_data = torchvision.datasets.KMNIST(root=\"data\", \n",
    "                train=False, download=True, transform=torchvision.transforms.ToTensor()\n",
    ")\n",
    "\n",
    "print(f\"Generating the train/validation split\")\n",
    "number_of_train_samples = int(len(train_data) * train_split)\n",
    "number_of_validation_samples = int(len(train_data) * validation_split)\n",
    "(train_data, validation_data) = random_split(train_data,\n",
    "                                             [number_of_train_samples, number_of_validation_samples],\n",
    "                                             generator=torch.Generator().manual_seed(42))"
   ]
  },
  {
   "cell_type": "code",
   "execution_count": 49,
   "metadata": {},
   "outputs": [],
   "source": [
    "training_data_loader = torch.utils.data.DataLoader(\n",
    "    train_data, shuffle=True, batch_size=batch_size\n",
    ")\n",
    "validation_data_loader = torch.utils.data.DataLoader(\n",
    "    validation_data, batch_size=batch_size\n",
    ")\n",
    "test_data_loader = DataLoader(test_data, batch_size=batch_size)\n",
    "\n",
    "train_steps = len(training_data_loader.dataset) // batch_size\n",
    "validation_steps = len(validation_data_loader.dataset) // batch_size"
   ]
  },
  {
   "cell_type": "code",
   "execution_count": 53,
   "metadata": {},
   "outputs": [
    {
     "name": "stdout",
     "output_type": "stream",
     "text": [
      "[INFO] Epoch: 1/10\n",
      "Train loss: 1.197438, Train accuracy: 0.6169\n",
      "Validation loss: 0.696176, Validation accuracy: 0.7832\n",
      "[INFO] Epoch: 2/10\n",
      "Train loss: 0.516110, Train accuracy: 0.8363\n",
      "Validation loss: 0.410207, Validation accuracy: 0.8820\n",
      "[INFO] Epoch: 3/10\n",
      "Train loss: 0.313744, Train accuracy: 0.9009\n",
      "Validation loss: 0.316267, Validation accuracy: 0.9080\n",
      "[INFO] Epoch: 4/10\n",
      "Train loss: 0.218301, Train accuracy: 0.9335\n",
      "Validation loss: 0.292367, Validation accuracy: 0.9132\n",
      "[INFO] Epoch: 5/10\n",
      "Train loss: 0.139462, Train accuracy: 0.9567\n",
      "Validation loss: 0.243310, Validation accuracy: 0.9304\n",
      "[INFO] Epoch: 6/10\n",
      "Train loss: 0.095866, Train accuracy: 0.9711\n",
      "Validation loss: 0.231342, Validation accuracy: 0.9396\n",
      "[INFO] Epoch: 7/10\n",
      "Train loss: 0.062636, Train accuracy: 0.9820\n",
      "Validation loss: 0.224055, Validation accuracy: 0.9400\n",
      "[INFO] Epoch: 8/10\n",
      "Train loss: 0.040142, Train accuracy: 0.9888\n",
      "Validation loss: 0.227522, Validation accuracy: 0.9416\n",
      "[INFO] Epoch: 9/10\n",
      "Train loss: 0.024095, Train accuracy: 0.9945\n",
      "Validation loss: 0.233839, Validation accuracy: 0.9448\n",
      "[INFO] Epoch: 10/10\n",
      "Train loss: 0.016276, Train accuracy: 0.9965\n",
      "Validation loss: 0.256929, Validation accuracy: 0.9420\n"
     ]
    }
   ],
   "source": [
    "model = CNN(\n",
    "    number_of_channels=1,\n",
    "    number_of_classes = len(train_data.dataset.classes)\n",
    ").to(device)\n",
    "\n",
    "optimizer = torch.optim.Adam(\n",
    "    model.parameters(), lr=init_learning_rate\n",
    ")\n",
    "criterion = torch.nn.NLLLoss()\n",
    "\n",
    "H = {\n",
    "    \"train_loss\": [],\n",
    "    \"train_acc\": [],\n",
    "    \"val_loss\": [],\n",
    "    \"val_acc\": []\n",
    "}\n",
    "\n",
    "for e in range(0, epochs):\n",
    "    model.train()\n",
    "    \n",
    "    total_train_loss = 0\n",
    "    total_validation_loss = 0\n",
    "    \n",
    "    train_correct = 0\n",
    "    validation_correct = 0\n",
    "    \n",
    "    for(x, y) in training_data_loader:\n",
    "        (x, y) = (x.to(device), y.to(device))\n",
    "        \n",
    "        prediction = model(x)\n",
    "        loss = criterion(prediction, y)\n",
    "        \n",
    "        # zero ut the gradients, calculate/perform the backprogation step and update the weights\n",
    "        model.zero_grad()\n",
    "        loss.backward()\n",
    "        optimizer.step()\n",
    "        \n",
    "        total_train_loss += loss\n",
    "        train_correct += (prediction.argmax(1)==y).type(torch.float).sum().item()\n",
    "    \n",
    "    with torch.no_grad():\n",
    "        model.eval()\n",
    "        \n",
    "        for (x, y) in validation_data_loader:\n",
    "            (x, y) = (x.to(device), y.to(device))\n",
    "            \n",
    "            prediction = model(x)\n",
    "            loss = criterion(prediction, y)\n",
    "            total_validation_loss += loss\n",
    "            \n",
    "            validation_correct += (prediction.argmax(1) == y).type(\n",
    "                torch.float).sum().item()\n",
    "    \n",
    "    average_train_loss = total_train_loss / train_steps\n",
    "    average_validation_loss = total_validation_loss / validation_steps\n",
    "    \n",
    "    train_correct = train_correct / len(training_data_loader.dataset)\n",
    "    validation_correct = validation_correct / len(validation_data_loader.dataset)\n",
    "    \n",
    "    H[\"train_loss\"].append(average_train_loss.cpu().detach().numpy())\n",
    "    H[\"train_acc\"].append(train_correct)\n",
    "    H[\"val_loss\"].append(average_train_loss.cpu().detach().numpy())\n",
    "    H[\"val_acc\"].append(validation_correct)\n",
    "    \n",
    "    print(f\"[INFO] Epoch: {e+1}/{epochs}\")\n",
    "    print(f\"Train loss: {average_train_loss:.6f}, Train accuracy: {train_correct:.4f}\")\n",
    "    print(f\"Validation loss: {average_validation_loss:.6f}, Validation accuracy: {validation_correct:.4f}\")"
   ]
  },
  {
   "cell_type": "code",
   "execution_count": 57,
   "metadata": {},
   "outputs": [
    {
     "name": "stdout",
     "output_type": "stream",
     "text": [
      "Evaluating network:\n",
      "Classifcatio report: \n",
      "              precision    recall  f1-score   support\n",
      "\n",
      "           o       0.99      0.98      0.99      1000\n",
      "          ki       0.99      0.98      0.98      1000\n",
      "          su       0.98      0.98      0.98      1000\n",
      "         tsu       1.00      0.98      0.99      1000\n",
      "          na       0.92      0.99      0.96      1000\n",
      "          ha       0.99      0.98      0.98      1000\n",
      "          ma       0.99      0.95      0.97      1000\n",
      "          ya       0.99      0.99      0.99      1000\n",
      "          re       0.99      0.99      0.99      1000\n",
      "          wo       0.99      1.00      0.99      1000\n",
      "\n",
      "    accuracy                           0.98     10000\n",
      "   macro avg       0.98      0.98      0.98     10000\n",
      "weighted avg       0.98      0.98      0.98     10000\n",
      "\n"
     ]
    }
   ],
   "source": [
    "print(f\"Evaluating network:\")\n",
    "with torch.no_grad():\n",
    "    model.eval()\n",
    "    predictions = []\n",
    "    \n",
    "    for(x, y) in test_data_loader:\n",
    "        x = x.to(device)\n",
    "        prediction = model(x)\n",
    "        predictions.extend(prediction.argmax(axis=1).cpu().numpy())\n",
    "    \n",
    "classification_report_result = classification_report(\n",
    "    test_data.targets.cpu().numpy(),\n",
    "    np.array(predictions), target_names=test_data.classes\n",
    ")\n",
    "\n",
    "print(f\"Classifcatio report: \\n{classification_report_result}\")"
   ]
  },
  {
   "cell_type": "code",
   "execution_count": 58,
   "metadata": {},
   "outputs": [
    {
     "data": {
      "text/plain": [
       "<matplotlib.legend.Legend at 0x249a3f46e90>"
      ]
     },
     "execution_count": 58,
     "metadata": {},
     "output_type": "execute_result"
    },
    {
     "data": {
      "image/png": "[encoded data removed]",
      "text/plain": [
       "<Figure size 640x480 with 1 Axes>"
      ]
     },
     "metadata": {},
     "output_type": "display_data"
    }
   ],
   "source": [
    "plt.style.use(\"ggplot\")\n",
    "plt.figure()\n",
    "plt.plot(H[\"train_loss\"], label=\"train_loss\")\n",
    "plt.plot(H[\"val_loss\"], label=\"validation_loss\")\n",
    "plt.plot(H[\"train_acc\"], label=\"train_acc\")\n",
    "plt.plot(H[\"val_acc\"], label=\"val_acc\")\n",
    "plt.title(\"Training Loss and Accuracy on Dataset\")\n",
    "plt.xlabel(\"Epoch #\")\n",
    "plt.ylabel(\"Loss/Accuracy\")\n",
    "plt.legend(loc=\"lower left\")"
   ]
  }
 ],
 "metadata": {
  "kernelspec": {
   "display_name": "Python 3",
   "language": "python",
   "name": "python3"
  },
  "language_info": {
   "codemirror_mode": {
    "name": "ipython",
    "version": 3
   },
   "file_extension": ".py",
   "mimetype": "text/x-python",
   "name": "python",
   "nbconvert_exporter": "python",
   "pygments_lexer": "ipython3",
   "version": "3.11.6"
  }
 },
 "nbformat": 4,
 "nbformat_minor": 2
}
