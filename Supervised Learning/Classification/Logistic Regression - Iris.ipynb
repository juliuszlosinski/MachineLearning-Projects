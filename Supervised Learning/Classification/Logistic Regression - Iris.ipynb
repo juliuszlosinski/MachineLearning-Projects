{
 "cells": [
  {
   "cell_type": "code",
   "execution_count": 330,
   "metadata": {},
   "outputs": [],
   "source": [
    "import numpy as np\n",
    "import matplotlib.pyplot as plt\n",
    "from sklearn.datasets import load_iris"
   ]
  },
  {
   "cell_type": "code",
   "execution_count": 331,
   "metadata": {},
   "outputs": [
    {
     "name": "stdout",
     "output_type": "stream",
     "text": [
      "Dimension of X: (100, 4)\n",
      "Dimension of y: [0 0 0 0 0 0 0 0 0 0 0 0 0 0 0 0 0 0 0 0 0 0 0 0 0 0 0 0 0 0 0 0 0 0 0 0 0\n",
      " 0 0 0 0 0 0 0 0 0 0 0 0 0 1 1 1 1 1 1 1 1 1 1 1 1 1 1 1 1 1 1 1 1 1 1 1 1\n",
      " 1 1 1 1 1 1 1 1 1 1 1 1 1 1 1 1 1 1 1 1 1 1 1 1 1 1]\n",
      "X independent variables: \n",
      "[[5.1 3.5 1.4 0.2]\n",
      " [4.9 3.  1.4 0.2]\n",
      " [4.7 3.2 1.3 0.2]\n",
      " [4.6 3.1 1.5 0.2]\n",
      " [5.  3.6 1.4 0.2]\n",
      " [5.4 3.9 1.7 0.4]\n",
      " [4.6 3.4 1.4 0.3]\n",
      " [5.  3.4 1.5 0.2]\n",
      " [4.4 2.9 1.4 0.2]\n",
      " [4.9 3.1 1.5 0.1]\n",
      " [5.4 3.7 1.5 0.2]\n",
      " [4.8 3.4 1.6 0.2]\n",
      " [4.8 3.  1.4 0.1]\n",
      " [4.3 3.  1.1 0.1]\n",
      " [5.8 4.  1.2 0.2]\n",
      " [5.7 4.4 1.5 0.4]\n",
      " [5.4 3.9 1.3 0.4]\n",
      " [5.1 3.5 1.4 0.3]\n",
      " [5.7 3.8 1.7 0.3]\n",
      " [5.1 3.8 1.5 0.3]\n",
      " [5.4 3.4 1.7 0.2]\n",
      " [5.1 3.7 1.5 0.4]\n",
      " [4.6 3.6 1.  0.2]\n",
      " [5.1 3.3 1.7 0.5]\n",
      " [4.8 3.4 1.9 0.2]\n",
      " [5.  3.  1.6 0.2]\n",
      " [5.  3.4 1.6 0.4]\n",
      " [5.2 3.5 1.5 0.2]\n",
      " [5.2 3.4 1.4 0.2]\n",
      " [4.7 3.2 1.6 0.2]\n",
      " [4.8 3.1 1.6 0.2]\n",
      " [5.4 3.4 1.5 0.4]\n",
      " [5.2 4.1 1.5 0.1]\n",
      " [5.5 4.2 1.4 0.2]\n",
      " [4.9 3.1 1.5 0.2]\n",
      " [5.  3.2 1.2 0.2]\n",
      " [5.5 3.5 1.3 0.2]\n",
      " [4.9 3.6 1.4 0.1]\n",
      " [4.4 3.  1.3 0.2]\n",
      " [5.1 3.4 1.5 0.2]\n",
      " [5.  3.5 1.3 0.3]\n",
      " [4.5 2.3 1.3 0.3]\n",
      " [4.4 3.2 1.3 0.2]\n",
      " [5.  3.5 1.6 0.6]\n",
      " [5.1 3.8 1.9 0.4]\n",
      " [4.8 3.  1.4 0.3]\n",
      " [5.1 3.8 1.6 0.2]\n",
      " [4.6 3.2 1.4 0.2]\n",
      " [5.3 3.7 1.5 0.2]\n",
      " [5.  3.3 1.4 0.2]\n",
      " [7.  3.2 4.7 1.4]\n",
      " [6.4 3.2 4.5 1.5]\n",
      " [6.9 3.1 4.9 1.5]\n",
      " [5.5 2.3 4.  1.3]\n",
      " [6.5 2.8 4.6 1.5]\n",
      " [5.7 2.8 4.5 1.3]\n",
      " [6.3 3.3 4.7 1.6]\n",
      " [4.9 2.4 3.3 1. ]\n",
      " [6.6 2.9 4.6 1.3]\n",
      " [5.2 2.7 3.9 1.4]\n",
      " [5.  2.  3.5 1. ]\n",
      " [5.9 3.  4.2 1.5]\n",
      " [6.  2.2 4.  1. ]\n",
      " [6.1 2.9 4.7 1.4]\n",
      " [5.6 2.9 3.6 1.3]\n",
      " [6.7 3.1 4.4 1.4]\n",
      " [5.6 3.  4.5 1.5]\n",
      " [5.8 2.7 4.1 1. ]\n",
      " [6.2 2.2 4.5 1.5]\n",
      " [5.6 2.5 3.9 1.1]\n",
      " [5.9 3.2 4.8 1.8]\n",
      " [6.1 2.8 4.  1.3]\n",
      " [6.3 2.5 4.9 1.5]\n",
      " [6.1 2.8 4.7 1.2]\n",
      " [6.4 2.9 4.3 1.3]\n",
      " [6.6 3.  4.4 1.4]\n",
      " [6.8 2.8 4.8 1.4]\n",
      " [6.7 3.  5.  1.7]\n",
      " [6.  2.9 4.5 1.5]\n",
      " [5.7 2.6 3.5 1. ]\n",
      " [5.5 2.4 3.8 1.1]\n",
      " [5.5 2.4 3.7 1. ]\n",
      " [5.8 2.7 3.9 1.2]\n",
      " [6.  2.7 5.1 1.6]\n",
      " [5.4 3.  4.5 1.5]\n",
      " [6.  3.4 4.5 1.6]\n",
      " [6.7 3.1 4.7 1.5]\n",
      " [6.3 2.3 4.4 1.3]\n",
      " [5.6 3.  4.1 1.3]\n",
      " [5.5 2.5 4.  1.3]\n",
      " [5.5 2.6 4.4 1.2]\n",
      " [6.1 3.  4.6 1.4]\n",
      " [5.8 2.6 4.  1.2]\n",
      " [5.  2.3 3.3 1. ]\n",
      " [5.6 2.7 4.2 1.3]\n",
      " [5.7 3.  4.2 1.2]\n",
      " [5.7 2.9 4.2 1.3]\n",
      " [6.2 2.9 4.3 1.3]\n",
      " [5.1 2.5 3.  1.1]\n",
      " [5.7 2.8 4.1 1.3]]\n",
      "y dependent variable: \n",
      "[0 0 0 0 0 0 0 0 0 0 0 0 0 0 0 0 0 0 0 0 0 0 0 0 0 0 0 0 0 0 0 0 0 0 0 0 0\n",
      " 0 0 0 0 0 0 0 0 0 0 0 0 0 1 1 1 1 1 1 1 1 1 1 1 1 1 1 1 1 1 1 1 1 1 1 1 1\n",
      " 1 1 1 1 1 1 1 1 1 1 1 1 1 1 1 1 1 1 1 1 1 1 1 1 1 1]\n"
     ]
    }
   ],
   "source": [
    "data_set = load_iris()\n",
    "X_independent_variables = data_set.data[0:100, :]\n",
    "y_dependent_variable = data_set.target[0:100]\n",
    "\n",
    "print(f\"Dimension of X: {X_independent_variables.shape}\")\n",
    "print(f\"Dimension of y: {y_dependent_variable}\")\n",
    "print(f\"X independent variables: \\n{X_independent_variables}\")\n",
    "print(f\"y dependent variable: \\n{y_dependent_variable}\")"
   ]
  },
  {
   "cell_type": "markdown",
   "metadata": {},
   "source": [
    "<h1>Standardizing data</h1>"
   ]
  },
  {
   "cell_type": "code",
   "execution_count": 332,
   "metadata": {},
   "outputs": [],
   "source": [
    "def standarize_data(X):\n",
    "    mean = np.mean(X, axis=0)\n",
    "    sigma = np.std(X, axis=0)\n",
    "    X_standarded = (X-mean)/sigma\n",
    "    return X_standarded, mean, sigma"
   ]
  },
  {
   "cell_type": "code",
   "execution_count": 333,
   "metadata": {},
   "outputs": [],
   "source": [
    "def split_data(X, y, percentage_train = 80.0):\n",
    "    np.random.seed(100)\n",
    "    number_of_all_datapoints = X.shape[0]\n",
    "    number_of_train_datapoints = int(np.round(X.shape[0]*percentage_train/100))\n",
    "    indices_train = np.random.choice(number_of_all_datapoints, number_of_train_datapoints, replace=False).tolist()\n",
    "    indices_test = list(set(np.arange(X.shape[0]))-set(indices_train))\n",
    "    \n",
    "    X_train = X[indices_train, :]\n",
    "    y_train = y[indices_train]\n",
    "    X_test = X[indices_test, :]\n",
    "    y_test = y[indices_test]\n",
    "    \n",
    "    return X_train, y_train, X_test, y_test"
   ]
  },
  {
   "cell_type": "code",
   "execution_count": 334,
   "metadata": {},
   "outputs": [
    {
     "name": "stdout",
     "output_type": "stream",
     "text": [
      "Dimension of X training data: (80, 4)\n",
      "Dimension of y training data: (80,)\n",
      "X training data: [[4.9 3.6 1.4 0.1]\n",
      " [6.  2.2 4.  1. ]\n",
      " [5.  3.4 1.6 0.4]\n",
      " [4.5 2.3 1.3 0.3]\n",
      " [5.  3.2 1.2 0.2]\n",
      " [5.  3.  1.6 0.2]\n",
      " [5.5 3.5 1.3 0.2]\n",
      " [5.5 4.2 1.4 0.2]\n",
      " [6.7 3.  5.  1.7]\n",
      " [5.1 3.7 1.5 0.4]\n",
      " [6.  3.4 4.5 1.6]\n",
      " [7.  3.2 4.7 1.4]\n",
      " [5.8 2.6 4.  1.2]\n",
      " [5.6 2.5 3.9 1.1]\n",
      " [5.7 2.9 4.2 1.3]\n",
      " [6.  2.9 4.5 1.5]\n",
      " [6.3 2.5 4.9 1.5]\n",
      " [5.4 3.9 1.7 0.4]\n",
      " [5.  3.5 1.3 0.3]\n",
      " [4.8 3.4 1.6 0.2]\n",
      " [4.7 3.2 1.6 0.2]\n",
      " [6.  2.7 5.1 1.6]\n",
      " [5.8 2.7 3.9 1.2]\n",
      " [5.  3.5 1.6 0.6]\n",
      " [5.2 3.4 1.4 0.2]\n",
      " [4.6 3.6 1.  0.2]\n",
      " [5.1 3.3 1.7 0.5]\n",
      " [5.5 2.6 4.4 1.2]\n",
      " [6.7 3.1 4.7 1.5]\n",
      " [5.4 3.4 1.7 0.2]\n",
      " [5.2 4.1 1.5 0.1]\n",
      " [4.6 3.4 1.4 0.3]\n",
      " [4.6 3.1 1.5 0.2]\n",
      " [4.8 3.  1.4 0.1]\n",
      " [6.4 3.2 4.5 1.5]\n",
      " [5.4 3.  4.5 1.5]\n",
      " [6.1 2.8 4.7 1.2]\n",
      " [5.6 2.9 3.6 1.3]\n",
      " [6.5 2.8 4.6 1.5]\n",
      " [6.2 2.2 4.5 1.5]\n",
      " [6.6 3.  4.4 1.4]\n",
      " [6.4 2.9 4.3 1.3]\n",
      " [4.9 2.4 3.3 1. ]\n",
      " [4.4 3.2 1.3 0.2]\n",
      " [6.8 2.8 4.8 1.4]\n",
      " [5.7 2.8 4.1 1.3]\n",
      " [5.1 3.5 1.4 0.3]\n",
      " [5.  2.3 3.3 1. ]\n",
      " [6.1 2.9 4.7 1.4]\n",
      " [5.1 3.5 1.4 0.2]\n",
      " [5.7 3.8 1.7 0.3]\n",
      " [5.1 3.8 1.9 0.4]\n",
      " [4.4 3.  1.3 0.2]\n",
      " [4.8 3.  1.4 0.3]\n",
      " [5.1 3.4 1.5 0.2]\n",
      " [5.9 3.2 4.8 1.8]\n",
      " [5.6 2.7 4.2 1.3]\n",
      " [4.8 3.1 1.6 0.2]\n",
      " [6.1 2.8 4.  1.3]\n",
      " [5.1 3.8 1.6 0.2]\n",
      " [6.3 3.3 4.7 1.6]\n",
      " [5.5 2.4 3.8 1.1]\n",
      " [6.1 3.  4.6 1.4]\n",
      " [5.6 3.  4.1 1.3]\n",
      " [5.1 3.8 1.5 0.3]\n",
      " [5.5 2.4 3.7 1. ]\n",
      " [5.7 2.8 4.5 1.3]\n",
      " [5.5 2.5 4.  1.3]\n",
      " [5.9 3.  4.2 1.5]\n",
      " [6.7 3.1 4.4 1.4]\n",
      " [4.6 3.2 1.4 0.2]\n",
      " [5.  3.3 1.4 0.2]\n",
      " [5.  3.4 1.5 0.2]\n",
      " [6.2 2.9 4.3 1.3]\n",
      " [5.2 2.7 3.9 1.4]\n",
      " [5.7 3.  4.2 1.2]\n",
      " [4.3 3.  1.1 0.1]\n",
      " [4.9 3.  1.4 0.2]\n",
      " [5.4 3.4 1.5 0.4]\n",
      " [5.  3.6 1.4 0.2]]\n",
      "y training data: [0 1 0 0 0 0 0 0 1 0 1 1 1 1 1 1 1 0 0 0 0 1 1 0 0 0 0 1 1 0 0 0 0 0 1 1 1\n",
      " 1 1 1 1 1 1 0 1 1 0 1 1 0 0 0 0 0 0 1 1 0 1 0 1 1 1 1 0 1 1 1 1 1 0 0 0 1\n",
      " 1 1 0 0 0 0]\n",
      "X test data: [[4.7 3.2 1.3 0.2]\n",
      " [4.4 2.9 1.4 0.2]\n",
      " [4.9 3.1 1.5 0.1]\n",
      " [5.4 3.7 1.5 0.2]\n",
      " [5.8 4.  1.2 0.2]\n",
      " [5.7 4.4 1.5 0.4]\n",
      " [5.4 3.9 1.3 0.4]\n",
      " [4.8 3.4 1.9 0.2]\n",
      " [5.2 3.5 1.5 0.2]\n",
      " [4.9 3.1 1.5 0.2]\n",
      " [5.3 3.7 1.5 0.2]\n",
      " [6.9 3.1 4.9 1.5]\n",
      " [5.5 2.3 4.  1.3]\n",
      " [6.6 2.9 4.6 1.3]\n",
      " [5.  2.  3.5 1. ]\n",
      " [5.6 3.  4.5 1.5]\n",
      " [5.8 2.7 4.1 1. ]\n",
      " [5.7 2.6 3.5 1. ]\n",
      " [6.3 2.3 4.4 1.3]\n",
      " [5.1 2.5 3.  1.1]]\n",
      "y test data: [0 0 0 0 0 0 0 0 0 0 0 1 1 1 1 1 1 1 1 1]\n"
     ]
    }
   ],
   "source": [
    "X_train, y_train, X_test, y_test = split_data(X_independent_variables, y_dependent_variable)\n",
    "\n",
    "print(f\"Dimension of X training data: {X_train.shape}\")\n",
    "print(f\"Dimension of y training data: {y_train.shape}\")\n",
    "\n",
    "print(f\"X training data: {X_train}\")\n",
    "print(f\"y training data: {y_train}\")\n",
    "print(f\"X test data: {X_test}\")\n",
    "print(f\"y test data: {y_test}\")"
   ]
  },
  {
   "cell_type": "code",
   "execution_count": 335,
   "metadata": {},
   "outputs": [
    {
     "name": "stdout",
     "output_type": "stream",
     "text": [
      "Standarded X training data: [[-0.89579773  1.15786408 -1.04172561 -1.25212374]\n",
      " [ 0.81418492 -2.05205614  0.74164004  0.32673632]\n",
      " [-0.74034476  0.69930405 -0.90454364 -0.72583705]\n",
      " [-1.5176096  -1.82277613 -1.1103166  -0.90126595]\n",
      " [-0.74034476  0.24074402 -1.17890759 -1.07669484]\n",
      " [-0.74034476 -0.21781602 -0.90454364 -1.07669484]\n",
      " [ 0.03692008  0.92858407 -1.1103166  -1.07669484]\n",
      " [ 0.03692008  2.53354418 -1.04172561 -1.07669484]\n",
      " [ 1.90235569 -0.21781602  1.42754991  1.55473858]\n",
      " [-0.58489179  1.3871441  -0.97313463 -0.72583705]\n",
      " [ 0.81418492  0.69930405  1.08459498  1.37930968]\n",
      " [ 2.36871459  0.24074402  1.22177695  1.02845189]\n",
      " [ 0.50327898 -1.13493608  0.74164004  0.67759411]\n",
      " [ 0.19237305 -1.3642161   0.67304906  0.50216521]\n",
      " [ 0.34782602 -0.44709603  0.87882202  0.853023  ]\n",
      " [ 0.81418492 -0.44709603  1.08459498  1.20388079]\n",
      " [ 1.28054382 -1.3642161   1.35895893  1.20388079]\n",
      " [-0.11853289  1.84570413 -0.83595265 -0.72583705]\n",
      " [-0.74034476  0.92858407 -1.1103166  -0.90126595]\n",
      " [-1.05125069  0.69930405 -0.90454364 -1.07669484]\n",
      " [-1.20670366  0.24074402 -0.90454364 -1.07669484]\n",
      " [ 0.81418492 -0.90565606  1.4961409   1.37930968]\n",
      " [ 0.50327898 -0.90565606  0.67304906  0.67759411]\n",
      " [-0.74034476  0.92858407 -0.90454364 -0.37497926]\n",
      " [-0.42943882  0.69930405 -1.04172561 -1.07669484]\n",
      " [-1.36215663  1.15786408 -1.31608956 -1.07669484]\n",
      " [-0.58489179  0.47002403 -0.83595265 -0.55040816]\n",
      " [ 0.03692008 -1.13493608  1.01600399  0.67759411]\n",
      " [ 1.90235569  0.011464    1.22177695  1.20388079]\n",
      " [-0.11853289  0.69930405 -0.83595265 -1.07669484]\n",
      " [-0.42943882  2.30426416 -0.97313463 -1.25212374]\n",
      " [-1.36215663  0.69930405 -1.04172561 -0.90126595]\n",
      " [-1.36215663  0.011464   -0.97313463 -1.07669484]\n",
      " [-1.05125069 -0.21781602 -1.04172561 -1.25212374]\n",
      " [ 1.43599679  0.24074402  1.08459498  1.20388079]\n",
      " [-0.11853289 -0.21781602  1.08459498  1.20388079]\n",
      " [ 0.96963789 -0.67637605  1.22177695  0.67759411]\n",
      " [ 0.19237305 -0.44709603  0.4672761   0.853023  ]\n",
      " [ 1.59144976 -0.67637605  1.15318597  1.20388079]\n",
      " [ 1.12509085 -2.05205614  1.08459498  1.20388079]\n",
      " [ 1.74690272 -0.21781602  1.01600399  1.02845189]\n",
      " [ 1.43599679 -0.44709603  0.94741301  0.853023  ]\n",
      " [-0.89579773 -1.59349611  0.26150314  0.32673632]\n",
      " [-1.67306256  0.24074402 -1.1103166  -1.07669484]\n",
      " [ 2.05780866 -0.67637605  1.29036794  1.02845189]\n",
      " [ 0.34782602 -0.67637605  0.81023103  0.853023  ]\n",
      " [-0.58489179  0.92858407 -1.04172561 -0.90126595]\n",
      " [-0.74034476 -1.82277613  0.26150314  0.32673632]\n",
      " [ 0.96963789 -0.44709603  1.22177695  1.02845189]\n",
      " [-0.58489179  0.92858407 -1.04172561 -1.07669484]\n",
      " [ 0.34782602  1.61642411 -0.83595265 -0.90126595]\n",
      " [-0.58489179  1.61642411 -0.69877068 -0.72583705]\n",
      " [-1.67306256 -0.21781602 -1.1103166  -1.07669484]\n",
      " [-1.05125069 -0.21781602 -1.04172561 -0.90126595]\n",
      " [-0.58489179  0.69930405 -0.97313463 -1.07669484]\n",
      " [ 0.65873195  0.24074402  1.29036794  1.73016747]\n",
      " [ 0.19237305 -0.90565606  0.87882202  0.853023  ]\n",
      " [-1.05125069  0.011464   -0.90454364 -1.07669484]\n",
      " [ 0.96963789 -0.67637605  0.74164004  0.853023  ]\n",
      " [-0.58489179  1.61642411 -0.90454364 -1.07669484]\n",
      " [ 1.28054382  0.47002403  1.22177695  1.37930968]\n",
      " [ 0.03692008 -1.59349611  0.60445807  0.50216521]\n",
      " [ 0.96963789 -0.21781602  1.15318597  1.02845189]\n",
      " [ 0.19237305 -0.21781602  0.81023103  0.853023  ]\n",
      " [-0.58489179  1.61642411 -0.97313463 -0.90126595]\n",
      " [ 0.03692008 -1.59349611  0.53586708  0.32673632]\n",
      " [ 0.34782602 -0.67637605  1.08459498  0.853023  ]\n",
      " [ 0.03692008 -1.3642161   0.74164004  0.853023  ]\n",
      " [ 0.65873195 -0.21781602  0.87882202  1.20388079]\n",
      " [ 1.90235569  0.011464    1.01600399  1.02845189]\n",
      " [-1.36215663  0.24074402 -1.04172561 -1.07669484]\n",
      " [-0.74034476  0.47002403 -1.04172561 -1.07669484]\n",
      " [-0.74034476  0.69930405 -0.97313463 -1.07669484]\n",
      " [ 1.12509085 -0.44709603  0.94741301  0.853023  ]\n",
      " [-0.42943882 -0.90565606  0.67304906  1.02845189]\n",
      " [ 0.34782602 -0.21781602  0.87882202  0.67759411]\n",
      " [-1.82851553 -0.21781602 -1.24749857 -1.25212374]\n",
      " [-0.89579773 -0.21781602 -1.04172561 -1.07669484]\n",
      " [-0.11853289  0.69930405 -0.97313463 -0.72583705]\n",
      " [-0.74034476  1.15786408 -1.04172561 -1.07669484]]\n",
      "Standarded X testing data: [[-1.21267813  0.13912477 -0.98260066 -0.92120197]\n",
      " [-1.69774938 -0.35190384 -0.90872092 -0.92120197]\n",
      " [-0.88929729 -0.02455143 -0.83484117 -1.11513923]\n",
      " [-0.08084521  0.9575058  -0.83484117 -0.92120197]\n",
      " [ 0.56591646  1.44853442 -1.05648041 -0.92120197]\n",
      " [ 0.40422604  2.10323924 -0.83484117 -0.53332746]\n",
      " [-0.08084521  1.28485821 -0.98260066 -0.53332746]\n",
      " [-1.05098771  0.46647719 -0.53932217 -0.92120197]\n",
      " [-0.40422604  0.63015339 -0.83484117 -0.92120197]\n",
      " [-0.88929729 -0.02455143 -0.83484117 -0.92120197]\n",
      " [-0.24253563  0.9575058  -0.83484117 -0.92120197]\n",
      " [ 2.34451104 -0.02455143  1.67707031  1.59998237]\n",
      " [ 0.08084521 -1.33396107  1.01215256  1.21210786]\n",
      " [ 1.85943979 -0.35190384  1.45543106  1.21210786]\n",
      " [-0.72760688 -1.82498969  0.64275382  0.63029608]\n",
      " [ 0.24253563 -0.18822764  1.38155131  1.59998237]\n",
      " [ 0.56591646 -0.67925625  1.08603231  0.63029608]\n",
      " [ 0.40422604 -0.84293246  0.64275382  0.63029608]\n",
      " [ 1.37436854 -1.33396107  1.30767156  1.21210786]\n",
      " [-0.56591646 -1.00660866  0.27335507  0.82423334]]\n"
     ]
    }
   ],
   "source": [
    "X_train_standarded, _, _ = standarize_data(X_train)\n",
    "X_test_standarded, mean_test, sigma_test = standarize_data(X_test)\n",
    "\n",
    "print(f\"Standarded X training data: {X_train_standarded}\")\n",
    "print(f\"Standarded X testing data: {X_test_standarded}\")"
   ]
  },
  {
   "cell_type": "markdown",
   "metadata": {},
   "source": [
    "<h1>Logistic Regression for classification</h1>\n",
    "<h3 style=\"color: green\">Hypothesis:</h3>\n",
    "\n",
    "\\begin{equation*}\n",
    "    h_\\theta(x) = g(\\theta^Tx)\n",
    "\\end{equation*}\n",
    "\n",
    "Hypothesis is a function, that maps our inputs and model's parameters to the output results. <b>It's our model!</b>\n",
    "\n",
    "<h4>Sigmoid:</h4>\n",
    "\n",
    "\\begin{equation*}\n",
    "    g(z) = \\frac{1}{1+e^{-z}}\n",
    "\\end{equation*}\n",
    "\n",
    "<img src='https://miro.medium.com/v2/resize:fit:1280/1*OUOB_YF41M-O4GgZH_F2rw.png' />\n",
    "\n",
    "<h3 style=\"color: red\">Cost function: </h3>\n",
    "\n",
    "\\begin{equation*}\n",
    "\tJ(\\theta) = \\frac{1}{m} \\sum_{i=1}^{m} [-y^{(i)}\\log(h_\\theta(x^{(i)})) - (1-y^{(i)})\\log(1-h_\\theta(x^{(i)}))]\t\n",
    "\\end{equation*}\n",
    "\n",
    "It's Binary Cross Entropy that will produce cost of our model!.\n",
    "We must <b>minimize cost function</b> by changing the model's parameters (theta).\n",
    "\n",
    "<h3 style=\"color: cyan\">Optimization by using <b>Linear Gradient</b></h3>"
   ]
  },
  {
   "cell_type": "markdown",
   "metadata": {},
   "source": [
    "\\begin{equation*}\n",
    "    \\theta_n := \\theta_n - \\alpha \\cdot \\frac{\\partial J(\\theta)}{\\partial \\theta_n}\n",
    "\\end{equation*}"
   ]
  },
  {
   "cell_type": "code",
   "execution_count": 336,
   "metadata": {},
   "outputs": [],
   "source": [
    "def sigmoid(z):\n",
    "    return 1/(1+np.exp(-z))"
   ]
  },
  {
   "cell_type": "code",
   "execution_count": 337,
   "metadata": {},
   "outputs": [],
   "source": [
    "def compute_cost_and_gradient(X, y, theta):\n",
    "    J_cost = -(np.dot(y, np.log2(sigmoid(np.dot(X, np.transpose(theta)))))+\n",
    "               np.dot((1-y), np.log2(1-sigmoid(np.dot(X, np.transpose(theta))))))/X.shape[0]\n",
    "    gradient = np.dot(np.transpose(X), sigmoid(np.dot(X, np.transpose(theta)))-y)/X.shape[0]\n",
    "    return J_cost, gradient"
   ]
  },
  {
   "cell_type": "markdown",
   "metadata": {},
   "source": [
    "Example cost and gradient:"
   ]
  },
  {
   "cell_type": "code",
   "execution_count": 338,
   "metadata": {},
   "outputs": [
    {
     "name": "stdout",
     "output_type": "stream",
     "text": [
      "Cost: 1.0\n",
      "Gradient: [-0.2325  0.1645 -0.6995 -0.27  ]\n"
     ]
    }
   ],
   "source": [
    "J_cost, gradient = compute_cost_and_gradient(\n",
    "    X_independent_variables, y_dependent_variable, np.zeros(X_train_standarded.shape[1])\n",
    ")\n",
    "\n",
    "print(f\"Cost: {J_cost}\")\n",
    "print(f\"Gradient: {gradient}\")"
   ]
  },
  {
   "cell_type": "markdown",
   "metadata": {},
   "source": [
    "<b>Training model by using J cost function and linear gradient:</b>"
   ]
  },
  {
   "cell_type": "code",
   "execution_count": 339,
   "metadata": {},
   "outputs": [],
   "source": [
    "def train_logistic_regression(X, y, alpha = 0.01):\n",
    "    number_of_iterations = 500\n",
    "    theta = np.zeros((X.shape[1]))\n",
    "    J_cost_results = np.zeros(number_of_iterations)\n",
    "    \n",
    "    for i in range(number_of_iterations):\n",
    "        J_cost_result, gradient = compute_cost_and_gradient(X, y, theta)\n",
    "        J_cost_results[i] = J_cost_result\n",
    "        theta = theta - alpha*gradient\n",
    "    \n",
    "    plt.figure()\n",
    "    plt.plot(J_cost_results)\n",
    "    plt.title(\"Training model effects - cost changes - J(i)\")\n",
    "    plt.xlabel(\"Number of iteration - i [-]\")\n",
    "    plt.ylabel(\"Value of cost function - J [-]\")\n",
    "    plt.show(block=False)\n",
    "    \n",
    "    return theta"
   ]
  },
  {
   "cell_type": "markdown",
   "metadata": {},
   "source": [
    "<b>Prediction for logistic regression f(X, theta) = y by using Hypothesis and the best theta</b>"
   ]
  },
  {
   "cell_type": "code",
   "execution_count": 340,
   "metadata": {},
   "outputs": [],
   "source": [
    "def predict_logistic_regression(X, theta):\n",
    "    pred = np.round(sigmoid(np.dot(X, np.transpose(theta))))\n",
    "    return pred"
   ]
  },
  {
   "cell_type": "code",
   "execution_count": 341,
   "metadata": {},
   "outputs": [
    {
     "name": "stdout",
     "output_type": "stream",
     "text": [
      "Example prediction by using zeroed parameters: [0. 0. 0. 0. 0.]\n"
     ]
    }
   ],
   "source": [
    "y_output = predict_logistic_regression(X_train[0:5], np.zeros(X_train.shape[1]))\n",
    "print(f\"Example prediction by using zeroed parameters: {y_output}\")"
   ]
  },
  {
   "cell_type": "code",
   "execution_count": 342,
   "metadata": {},
   "outputs": [
    {
     "data": {
      "image/png": "[encoded data removed]",
      "text/plain": [
       "<Figure size 640x480 with 1 Axes>"
      ]
     },
     "metadata": {},
     "output_type": "display_data"
    },
    {
     "name": "stdout",
     "output_type": "stream",
     "text": [
      "The best theta (minimized for cost function): [ 0.61012358 -0.61697219  0.86152976  0.85066069]\n",
      "y_test: [0 0 0 0 0 0 0 0 0 0 0 1 1 1 1 1 1 1 1 1]\n",
      "y_predicted: [0. 0. 0. 0. 0. 0. 0. 0. 0. 0. 0. 1. 1. 1. 1. 1. 1. 1. 1. 1.]\n",
      "Accuracy of the model: 100.0 [%]\n"
     ]
    }
   ],
   "source": [
    "theta = train_logistic_regression(X_train_standarded, y_train)\n",
    "y_predicted = predict_logistic_regression(X_test_standarded, theta)\n",
    "accuracy = np.mean(y_predicted==y_test)\n",
    "print(f\"The best theta (minimized for cost function): {theta}\")\n",
    "print(f\"y_test: {y_test}\")\n",
    "print(f\"y_predicted: {y_predicted}\")\n",
    "print(f\"Accuracy of the model: {accuracy*100} [%]\")"
   ]
  },
  {
   "cell_type": "markdown",
   "metadata": {},
   "source": [
    "<h2><b>Classification by using Scikit-learn libraries:</b></h2>\n",
    "\n",
    "- logistic regression model - `linear_model.LogisticRegression`,\n",
    "- decision tree model - `tree.DecisionTreeClassifier`,\n",
    "- *k*-NN model - `neighbors.KNeighborsClassifier`,\n",
    "- accuracy metric - `metrics.accuracy_score`,\n",
    "- standardizing data - `preprocessing.StandardScaler`,\n",
    "- splitting data to training and testing - `model_selection.train_test_split`"
   ]
  },
  {
   "cell_type": "code",
   "execution_count": 343,
   "metadata": {},
   "outputs": [],
   "source": [
    "from sklearn.linear_model import LogisticRegression\n",
    "from sklearn.tree import DecisionTreeClassifier\n",
    "from sklearn.neighbors import KNeighborsClassifier\n",
    "from sklearn.metrics import accuracy_score\n",
    "from sklearn.preprocessing import StandardScaler\n",
    "from sklearn.model_selection import train_test_split"
   ]
  },
  {
   "cell_type": "markdown",
   "metadata": {},
   "source": [
    "<b>1. Splitting data:</b>"
   ]
  },
  {
   "cell_type": "code",
   "execution_count": 344,
   "metadata": {},
   "outputs": [
    {
     "name": "stdout",
     "output_type": "stream",
     "text": [
      "X training data: [[6.1 3.  4.6 1.4]\n",
      " [6.  2.9 4.5 1.5]\n",
      " [5.  2.3 3.3 1. ]\n",
      " [6.9 3.1 4.9 1.5]\n",
      " [5.6 2.9 3.6 1.3]\n",
      " [5.7 2.9 4.2 1.3]\n",
      " [5.  3.4 1.5 0.2]\n",
      " [4.4 3.  1.3 0.2]\n",
      " [5.5 2.4 3.7 1. ]\n",
      " [6.  3.4 4.5 1.6]\n",
      " [4.7 3.2 1.6 0.2]\n",
      " [5.5 2.4 3.8 1.1]\n",
      " [5.  2.  3.5 1. ]\n",
      " [4.6 3.2 1.4 0.2]\n",
      " [5.5 4.2 1.4 0.2]\n",
      " [5.  3.3 1.4 0.2]\n",
      " [4.9 3.  1.4 0.2]\n",
      " [6.1 2.8 4.  1.3]\n",
      " [4.3 3.  1.1 0.1]\n",
      " [5.8 4.  1.2 0.2]\n",
      " [5.7 3.  4.2 1.2]\n",
      " [4.6 3.1 1.5 0.2]\n",
      " [4.9 3.1 1.5 0.2]\n",
      " [5.  3.4 1.6 0.4]\n",
      " [6.  2.7 5.1 1.6]\n",
      " [5.4 3.9 1.7 0.4]\n",
      " [6.4 2.9 4.3 1.3]\n",
      " [4.7 3.2 1.3 0.2]\n",
      " [5.2 3.4 1.4 0.2]\n",
      " [5.6 3.  4.1 1.3]\n",
      " [5.  3.5 1.3 0.3]\n",
      " [5.8 2.6 4.  1.2]\n",
      " [5.1 3.5 1.4 0.2]\n",
      " [6.1 2.9 4.7 1.4]\n",
      " [4.9 2.4 3.3 1. ]\n",
      " [5.1 3.8 1.9 0.4]\n",
      " [5.7 3.8 1.7 0.3]\n",
      " [6.1 2.8 4.7 1.2]\n",
      " [5.8 2.7 3.9 1.2]\n",
      " [4.4 2.9 1.4 0.2]\n",
      " [5.4 3.7 1.5 0.2]\n",
      " [5.4 3.4 1.7 0.2]\n",
      " [5.8 2.7 4.1 1. ]\n",
      " [4.8 3.  1.4 0.1]\n",
      " [5.4 3.9 1.3 0.4]\n",
      " [5.6 2.7 4.2 1.3]\n",
      " [6.7 3.  5.  1.7]\n",
      " [4.8 3.  1.4 0.3]\n",
      " [5.1 3.5 1.4 0.3]\n",
      " [5.7 2.8 4.5 1.3]\n",
      " [4.8 3.4 1.9 0.2]\n",
      " [5.6 3.  4.5 1.5]\n",
      " [4.8 3.1 1.6 0.2]\n",
      " [6.4 3.2 4.5 1.5]\n",
      " [5.1 3.4 1.5 0.2]\n",
      " [6.6 2.9 4.6 1.3]\n",
      " [4.9 3.6 1.4 0.1]\n",
      " [4.6 3.4 1.4 0.3]\n",
      " [6.5 2.8 4.6 1.5]\n",
      " [5.  3.  1.6 0.2]\n",
      " [5.1 3.7 1.5 0.4]\n",
      " [5.3 3.7 1.5 0.2]\n",
      " [4.9 3.1 1.5 0.1]\n",
      " [5.1 3.3 1.7 0.5]\n",
      " [5.  3.2 1.2 0.2]\n",
      " [5.1 2.5 3.  1.1]\n",
      " [7.  3.2 4.7 1.4]\n",
      " [6.  2.2 4.  1. ]\n",
      " [6.2 2.2 4.5 1.5]\n",
      " [5.5 2.3 4.  1.3]]\n",
      "y training data: [1 1 1 1 1 1 0 0 1 1 0 1 1 0 0 0 0 1 0 0 1 0 0 0 1 0 1 0 0 1 0 1 0 1 1 0 0\n",
      " 1 1 0 0 0 1 0 0 1 1 0 0 1 0 1 0 1 0 1 0 0 1 0 0 0 0 0 0 1 1 1 1 1]\n",
      "X test data: [[6.8 2.8 4.8 1.4]\n",
      " [5.9 3.  4.2 1.5]\n",
      " [5.6 2.5 3.9 1.1]\n",
      " [6.3 3.3 4.7 1.6]\n",
      " [5.2 3.5 1.5 0.2]\n",
      " [4.5 2.3 1.3 0.3]\n",
      " [5.1 3.8 1.6 0.2]\n",
      " [5.5 3.5 1.3 0.2]\n",
      " [4.6 3.6 1.  0.2]\n",
      " [5.  3.6 1.4 0.2]\n",
      " [5.5 2.5 4.  1.3]\n",
      " [5.2 4.1 1.5 0.1]\n",
      " [4.8 3.4 1.6 0.2]\n",
      " [5.1 3.8 1.5 0.3]\n",
      " [6.3 2.5 4.9 1.5]\n",
      " [5.7 4.4 1.5 0.4]\n",
      " [6.7 3.1 4.4 1.4]\n",
      " [5.  3.5 1.6 0.6]\n",
      " [6.6 3.  4.4 1.4]\n",
      " [5.4 3.  4.5 1.5]\n",
      " [5.4 3.4 1.5 0.4]\n",
      " [6.3 2.3 4.4 1.3]\n",
      " [6.7 3.1 4.7 1.5]\n",
      " [5.7 2.6 3.5 1. ]\n",
      " [5.2 2.7 3.9 1.4]\n",
      " [5.5 2.6 4.4 1.2]\n",
      " [5.9 3.2 4.8 1.8]\n",
      " [6.2 2.9 4.3 1.3]\n",
      " [4.4 3.2 1.3 0.2]\n",
      " [5.7 2.8 4.1 1.3]]\n",
      "y test data: [1 1 1 1 0 0 0 0 0 0 1 0 0 0 1 0 1 0 1 1 0 1 1 1 1 1 1 1 0 1]\n"
     ]
    }
   ],
   "source": [
    "X_train, X_test, y_train, y_test = train_test_split(\n",
    "    X_independent_variables,\n",
    "    y_dependent_variable,\n",
    "    train_size=0.7\n",
    ")\n",
    "\n",
    "print(f\"X training data: {X_train}\")\n",
    "print(f\"y training data: {y_train}\")\n",
    "print(f\"X test data: {X_test}\")\n",
    "print(f\"y test data: {y_test}\")"
   ]
  },
  {
   "cell_type": "markdown",
   "metadata": {},
   "source": [
    "<b>2. Standardizing X_train and X_test data:</b>"
   ]
  },
  {
   "cell_type": "code",
   "execution_count": 345,
   "metadata": {},
   "outputs": [
    {
     "name": "stdout",
     "output_type": "stream",
     "text": [
      "X training standarded data: [[ 1.0946559  -0.18510948  1.29436799  1.20552424]\n",
      " [ 0.93401458 -0.4047309   1.22380276  1.38739212]\n",
      " [-0.6723987  -1.72245943  0.37701996  0.47805272]\n",
      " [ 2.37978653  0.03451194  1.50606369  1.38739212]\n",
      " [ 0.29144927 -0.4047309   0.58871566  1.02365636]\n",
      " [ 0.45209059 -0.4047309   1.01210706  1.02365636]\n",
      " [-0.6723987   0.6933762  -0.89315424 -0.97689033]\n",
      " [-1.63624667 -0.18510948 -1.0342847  -0.97689033]\n",
      " [ 0.13080794 -1.50283801  0.65928089  0.47805272]\n",
      " [ 0.93401458  0.6933762   1.22380276  1.56926   ]\n",
      " [-1.15432268  0.25413336 -0.822589   -0.97689033]\n",
      " [ 0.13080794 -1.50283801  0.72984613  0.6599206 ]\n",
      " [-0.6723987  -2.38132369  0.51815043  0.47805272]\n",
      " [-1.31496401  0.25413336 -0.96371947 -0.97689033]\n",
      " [ 0.13080794  2.45034757 -0.96371947 -0.97689033]\n",
      " [-0.6723987   0.47375478 -0.96371947 -0.97689033]\n",
      " [-0.83304003 -0.18510948 -0.96371947 -0.97689033]\n",
      " [ 1.0946559  -0.62435233  0.87097659  1.02365636]\n",
      " [-1.79688799 -0.18510948 -1.17541517 -1.15875821]\n",
      " [ 0.61273192  2.01110473 -1.10484994 -0.97689033]\n",
      " [ 0.45209059 -0.18510948  1.01210706  0.84178848]\n",
      " [-1.31496401  0.03451194 -0.89315424 -0.97689033]\n",
      " [-0.83304003  0.03451194 -0.89315424 -0.97689033]\n",
      " [-0.6723987   0.6933762  -0.822589   -0.61315457]\n",
      " [ 0.93401458 -0.84397375  1.64719416  1.56926   ]\n",
      " [-0.02983339  1.79148331 -0.75202377 -0.61315457]\n",
      " [ 1.57657989 -0.4047309   1.08267229  1.02365636]\n",
      " [-1.15432268  0.25413336 -1.0342847  -0.97689033]\n",
      " [-0.35111604  0.6933762  -0.96371947 -0.97689033]\n",
      " [ 0.29144927 -0.18510948  0.94154183  1.02365636]\n",
      " [-0.6723987   0.91299762 -1.0342847  -0.79502245]\n",
      " [ 0.61273192 -1.06359517  0.87097659  0.84178848]\n",
      " [-0.51175737  0.91299762 -0.96371947 -0.97689033]\n",
      " [ 1.0946559  -0.4047309   1.36493323  1.20552424]\n",
      " [-0.83304003 -1.50283801  0.37701996  0.47805272]\n",
      " [-0.51175737  1.57186189 -0.6108933  -0.61315457]\n",
      " [ 0.45209059  1.57186189 -0.75202377 -0.79502245]\n",
      " [ 1.0946559  -0.62435233  1.36493323  0.84178848]\n",
      " [ 0.61273192 -0.84397375  0.80041136  0.84178848]\n",
      " [-1.63624667 -0.4047309  -0.96371947 -0.97689033]\n",
      " [-0.02983339  1.35224046 -0.89315424 -0.97689033]\n",
      " [-0.02983339  0.6933762  -0.75202377 -0.97689033]\n",
      " [ 0.61273192 -0.84397375  0.94154183  0.47805272]\n",
      " [-0.99368136 -0.18510948 -0.96371947 -1.15875821]\n",
      " [-0.02983339  1.79148331 -1.0342847  -0.61315457]\n",
      " [ 0.29144927 -0.84397375  1.01210706  1.02365636]\n",
      " [ 2.05850387 -0.18510948  1.57662892  1.75112788]\n",
      " [-0.99368136 -0.18510948 -0.96371947 -0.79502245]\n",
      " [-0.51175737  0.91299762 -0.96371947 -0.79502245]\n",
      " [ 0.45209059 -0.62435233  1.22380276  1.02365636]\n",
      " [-0.99368136  0.6933762  -0.6108933  -0.97689033]\n",
      " [ 0.29144927 -0.18510948  1.22380276  1.38739212]\n",
      " [-0.99368136  0.03451194 -0.822589   -0.97689033]\n",
      " [ 1.57657989  0.25413336  1.22380276  1.38739212]\n",
      " [-0.51175737  0.6933762  -0.89315424 -0.97689033]\n",
      " [ 1.89786254 -0.4047309   1.29436799  1.02365636]\n",
      " [-0.83304003  1.13261904 -0.96371947 -1.15875821]\n",
      " [-1.31496401  0.6933762  -0.96371947 -0.79502245]\n",
      " [ 1.73722122 -0.62435233  1.29436799  1.38739212]\n",
      " [-0.6723987  -0.18510948 -0.822589   -0.97689033]\n",
      " [-0.51175737  1.35224046 -0.89315424 -0.61315457]\n",
      " [-0.19047472  1.35224046 -0.89315424 -0.97689033]\n",
      " [-0.83304003  0.03451194 -0.89315424 -1.15875821]\n",
      " [-0.51175737  0.47375478 -0.75202377 -0.43128669]\n",
      " [-0.6723987   0.25413336 -1.10484994 -0.97689033]\n",
      " [-0.51175737 -1.28321659  0.16532426  0.6599206 ]\n",
      " [ 2.54042785  0.25413336  1.36493323  1.20552424]\n",
      " [ 0.93401458 -1.94208085  0.87097659  0.47805272]\n",
      " [ 1.25529723 -1.94208085  1.22380276  1.38739212]\n",
      " [ 0.13080794 -1.72245943  0.87097659  1.02365636]]\n",
      "X testing standarded data: [[ 1.83315226 -0.64044693  1.1633703   0.87038828]\n",
      " [ 0.465884   -0.25617877  0.75675544  1.04446594]\n",
      " [ 0.01012791 -1.21684917  0.55344801  0.34815531]\n",
      " [ 1.07355878  0.32022347  1.09560116  1.21854359]\n",
      " [-0.59754687  0.70449162 -1.07301144 -1.21854359]\n",
      " [-1.66097774 -1.60111733 -1.20854973 -1.04446594]\n",
      " [-0.74946557  1.28089386 -1.0052423  -1.21854359]\n",
      " [-0.14179078  0.70449162 -1.20854973 -1.21854359]\n",
      " [-1.50905905  0.8966257  -1.41185716 -1.21854359]\n",
      " [-0.90138426  0.8966257  -1.14078059 -1.21854359]\n",
      " [-0.14179078 -1.21684917  0.62121715  0.69631062]\n",
      " [-0.59754687  1.8572961  -1.07301144 -1.39262125]\n",
      " [-1.20522165  0.51235755 -1.0052423  -1.21854359]\n",
      " [-0.74946557  1.28089386 -1.07301144 -1.04446594]\n",
      " [ 1.07355878 -1.21684917  1.23113945  1.04446594]\n",
      " [ 0.16204661  2.43369834 -1.07301144 -0.87038828]\n",
      " [ 1.68123357 -0.06404469  0.89229373  0.87038828]\n",
      " [-0.90138426  0.70449162 -1.0052423  -0.52223297]\n",
      " [ 1.52931487 -0.25617877  0.89229373  0.87038828]\n",
      " [-0.29370948 -0.25617877  0.96006287  1.04446594]\n",
      " [-0.29370948  0.51235755 -1.07301144 -0.87038828]\n",
      " [ 1.07355878 -1.60111733  0.89229373  0.69631062]\n",
      " [ 1.68123357 -0.06404469  1.09560116  1.04446594]\n",
      " [ 0.16204661 -1.02471509  0.28237143  0.17407766]\n",
      " [-0.59754687 -0.83258101  0.55344801  0.87038828]\n",
      " [-0.14179078 -1.02471509  0.89229373  0.52223297]\n",
      " [ 0.465884    0.12808939  1.1633703   1.5666989 ]\n",
      " [ 0.92164009 -0.44831285  0.82452458  0.69631062]\n",
      " [-1.81289644  0.12808939 -1.20854973 -1.21854359]\n",
      " [ 0.16204661 -0.64044693  0.6889863   0.69631062]]\n"
     ]
    }
   ],
   "source": [
    "standard_scaler = StandardScaler()\n",
    "X_train_standarded = standard_scaler.fit_transform(X_train)\n",
    "X_test_standarded = standard_scaler.fit_transform(X_test)\n",
    "\n",
    "print(f\"X training standarded data: {X_train_standarded}\")\n",
    "print(f\"X testing standarded data: {X_test_standarded}\")"
   ]
  },
  {
   "cell_type": "markdown",
   "metadata": {},
   "source": [
    "<u>Steps in Sci-kit learn ML models:</u>\n",
    "1. In order to train model (based on standarded training data) we have to use `fit` method.\n",
    "2. To get prediction we have to use `predict` method.\n",
    "3. To get accuracy of the model for the standarded test data we have to use `accuracy_score` method."
   ]
  },
  {
   "cell_type": "code",
   "execution_count": 346,
   "metadata": {},
   "outputs": [
    {
     "name": "stdout",
     "output_type": "stream",
     "text": [
      "Accuracy of the model on testing data: 100.0 [%]\n"
     ]
    }
   ],
   "source": [
    "logistic_regression_model = LogisticRegression()\n",
    "logistic_regression_model.fit(X_train_standarded, y_train)\n",
    "y_predicted = logistic_regression_model.predict(X_test_standarded)\n",
    "accuracy = accuracy_score(y_test, y_predicted)\n",
    "\n",
    "print(f\"Accuracy of the model on testing data: {accuracy*100} [%]\")"
   ]
  },
  {
   "cell_type": "markdown",
   "metadata": {},
   "source": [
    "<b>Other classifiers:</b>"
   ]
  },
  {
   "cell_type": "markdown",
   "metadata": {},
   "source": [
    "1. Decision Tree Classifier Model from `tree.DecisionTreeClassifier`"
   ]
  },
  {
   "cell_type": "code",
   "execution_count": 347,
   "metadata": {},
   "outputs": [
    {
     "name": "stdout",
     "output_type": "stream",
     "text": [
      "Accuracy of the Decision Tree Classifier Model: 100.0 [%]\n"
     ]
    }
   ],
   "source": [
    "model = DecisionTreeClassifier(max_depth=5)\n",
    "model.fit(X_train_standarded, y_train)\n",
    "y_predicted = model.predict(X_test_standarded)\n",
    "accuracy = accuracy_score(y_test, y_predicted)\n",
    "\n",
    "print(f\"Accuracy of the Decision Tree Classifier Model: {accuracy*100} [%]\")"
   ]
  },
  {
   "cell_type": "markdown",
   "metadata": {},
   "source": [
    "2. *k*-Nearest Neighbors Classifier Model from `neighbors.KNeighborsClassifier`"
   ]
  },
  {
   "cell_type": "code",
   "execution_count": 348,
   "metadata": {},
   "outputs": [
    {
     "name": "stdout",
     "output_type": "stream",
     "text": [
      "Accuracy of the K-Nearest Neighbor Classifier: 100.0 [%]\n"
     ]
    }
   ],
   "source": [
    "model = KNeighborsClassifier(n_neighbors=3)\n",
    "model.fit(X_train_standarded, y_train)\n",
    "y_predicted = model.predict(X_test_standarded)\n",
    "accuracy = accuracy_score(y_test, y_predicted)\n",
    "\n",
    "print(f\"Accuracy of the K-Nearest Neighbor Classifier: {accuracy*100} [%]\")"
   ]
  }
 ],
 "metadata": {
  "kernelspec": {
   "display_name": "Python 3",
   "language": "python",
   "name": "python3"
  },
  "language_info": {
   "codemirror_mode": {
    "name": "ipython",
    "version": 3
   },
   "file_extension": ".py",
   "mimetype": "text/x-python",
   "name": "python",
   "nbconvert_exporter": "python",
   "pygments_lexer": "ipython3",
   "version": "3.10.4"
  }
 },
 "nbformat": 4,
 "nbformat_minor": 2
}
