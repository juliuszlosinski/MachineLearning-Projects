{
 "cells": [
  {
   "cell_type": "code",
   "execution_count": 1,
   "metadata": {},
   "outputs": [
    {
     "name": "stdout",
     "output_type": "stream",
     "text": [
      "TRAINING:\n",
      "X train: \n",
      "[[ 1.00000000e+00  0.00000000e+00  0.00000000e+00  1.34013983e+00\n",
      "   7.90000000e+04]\n",
      " [ 1.00000000e+00  0.00000000e+00  0.00000000e+00 -2.58340208e-01\n",
      "   6.70000000e+04]\n",
      " [ 0.00000000e+00  0.00000000e+00  1.00000000e+00 -1.71150388e+00\n",
      "   4.80000000e+04]\n",
      " [ 0.00000000e+00  0.00000000e+00  1.00000000e+00 -1.13023841e-01\n",
      "   6.10000000e+04]\n",
      " [ 0.00000000e+00  1.00000000e+00  0.00000000e+00  1.63077256e+00\n",
      "   8.30000000e+04]\n",
      " [ 0.00000000e+00  1.00000000e+00  0.00000000e+00 -1.27555478e+00\n",
      "   5.40000000e+04]\n",
      " [ 0.00000000e+00  0.00000000e+00  1.00000000e+00  0.00000000e+00\n",
      "   5.20000000e+04]]\n",
      "y train: [1 1 1 0 0 0 0]\n",
      "\n",
      "TESTING:\n",
      "X test: \n",
      "[[ 0.00000000e+00  1.00000000e+00  0.00000000e+00  1.77608893e-01\n",
      "   6.37777778e+04]\n",
      " [ 1.00000000e+00  0.00000000e+00  0.00000000e+00  7.58874362e-01\n",
      "   7.20000000e+04]\n",
      " [ 1.00000000e+00  0.00000000e+00  0.00000000e+00 -5.48972942e-01\n",
      "   5.80000000e+04]]\n",
      "y test: \n",
      "[1 0 1]\n"
     ]
    }
   ],
   "source": [
    "import pandas as pd\n",
    "from sklearn.impute import SimpleImputer\n",
    "from sklearn.compose import ColumnTransformer\n",
    "from sklearn.preprocessing import LabelEncoder\n",
    "from sklearn.preprocessing import OneHotEncoder\n",
    "from sklearn.preprocessing import StandardScaler\n",
    "from sklearn.model_selection import train_test_split\n",
    "\n",
    "data_frame = pd.read_csv(\"Data.csv\")\n",
    "\n",
    "X = data_frame.iloc[:, :-1].values\n",
    "y = data_frame.iloc[:, -1].values\n",
    "\n",
    "column_transformer = ColumnTransformer(transformers=[(\"encoder\", OneHotEncoder(), [0])], remainder=\"passthrough\")\n",
    "column_transformer.fit(X)\n",
    "X = column_transformer.transform(X)\n",
    "\n",
    "simple_imputer = SimpleImputer()\n",
    "X = simple_imputer.fit_transform(X)\n",
    "\n",
    "standard_scaler = StandardScaler()\n",
    "X[:, -2:-1]=standard_scaler.fit_transform(X[:, -2:-1])\n",
    "\n",
    "label_encoder = LabelEncoder()\n",
    "y = label_encoder.fit_transform(y)\n",
    "\n",
    "X_train, X_test, y_train, y_test = train_test_split(X, y, test_size=0.3)\n",
    "\n",
    "print(f\"TRAINING:\")\n",
    "print(f\"X train: \\n{X_train}\\ny train: {y_train}\\n\")\n",
    "print(f\"TESTING:\")\n",
    "print(f\"X test: \\n{X_test}\\ny test: \\n{y_test}\")"
   ]
  }
 ],
 "metadata": {
  "kernelspec": {
   "display_name": "Python 3",
   "language": "python",
   "name": "python3"
  },
  "language_info": {
   "codemirror_mode": {
    "name": "ipython",
    "version": 3
   },
   "file_extension": ".py",
   "mimetype": "text/x-python",
   "name": "python",
   "nbconvert_exporter": "python",
   "pygments_lexer": "ipython3",
   "version": "3.11.6"
  }
 },
 "nbformat": 4,
 "nbformat_minor": 2
}
