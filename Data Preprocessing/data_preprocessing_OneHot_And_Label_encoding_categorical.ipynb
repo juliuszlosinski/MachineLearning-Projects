{
 "cells": [
  {
   "cell_type": "markdown",
   "metadata": {},
   "source": [
    "**Data Preprocessing - OneHot Encoding (more columns) - X (independent variables) & Label Encoding (0 or 1) - y (dependent variable)**"
   ]
  },
  {
   "cell_type": "markdown",
   "metadata": {},
   "source": [
    "1. Importing librariers (NumPy, Pandas, SimpleImputer (replacing missing values), ColumnTransformer & OneHotEncoder (OneHot encoding on categorical data) and LabelEncoder (0, 1, 2))."
   ]
  },
  {
   "cell_type": "code",
   "execution_count": 1,
   "metadata": {},
   "outputs": [],
   "source": [
    "import numpy as np\n",
    "import pandas as pd\n",
    "from sklearn.impute import SimpleImputer\n",
    "from sklearn.compose import ColumnTransformer\n",
    "from sklearn.preprocessing import OneHotEncoder\n",
    "from sklearn.preprocessing import LabelEncoder"
   ]
  },
  {
   "cell_type": "markdown",
   "metadata": {},
   "source": [
    "2. Reading and printing missing data."
   ]
  },
  {
   "cell_type": "code",
   "execution_count": null,
   "metadata": {},
   "outputs": [],
   "source": [
    "\n",
    "dataset = pd.read_csv(\"Data.csv\")\n",
    "\n",
    "missing_values = dataset.isna().sum()\n",
    "\n",
    "print(f\"Missing values: \\n{missing_values}\")"
   ]
  },
  {
   "cell_type": "markdown",
   "metadata": {},
   "source": [
    "3. Printing X independet variables (Matrix Of Features ~ INPUT) and y dependent variable (OUTPUT)."
   ]
  },
  {
   "cell_type": "code",
   "execution_count": null,
   "metadata": {},
   "outputs": [],
   "source": [
    "X_independent_variables = dataset.iloc[:, :-1].values\n",
    "y_dependent_variable = dataset.iloc[:, -1].values\n",
    "\n",
    "print(f\"\\nX independent variables: \\n{X_independent_variables}\\n\")\n",
    "print(f\"\\ny dependent variable: \\n{y_dependent_variable}\\n\")"
   ]
  },
  {
   "cell_type": "markdown",
   "metadata": {},
   "source": [
    "4. Replacing missing values in the X independent variables by using SimpleImputer from Sci-kit learn."
   ]
  },
  {
   "cell_type": "code",
   "execution_count": null,
   "metadata": {},
   "outputs": [],
   "source": [
    "simple_imputer = SimpleImputer(missing_values=np.nan, strategy=\"mean\")\n",
    "simple_imputer.fit(X_independent_variables[:, 1:3])\n",
    "X_independent_variables[:, 1:3]=np.ceil(simple_imputer.transform(X_independent_variables[:, 1:3]))\n",
    "\n",
    "print(f\"\\nReplaced X independent variables: \\n{X_independent_variables}\\n\")"
   ]
  },
  {
   "cell_type": "markdown",
   "metadata": {},
   "source": [
    "5. OnHot encoding categorical data, spliting categories and creating new columns."
   ]
  },
  {
   "cell_type": "code",
   "execution_count": null,
   "metadata": {},
   "outputs": [],
   "source": [
    "# ONE HOT ENCODING ~ Encoding caterogical data ~ Matrix of Features.\n",
    "column_transformer = ColumnTransformer(transformers=[(\"encoder\", OneHotEncoder(), [0])], remainder=\"passthrough\")\n",
    "column_transformer.fit(X_independent_variables)\n",
    "X_independent_variables = column_transformer.transform(X_independent_variables)\n",
    "\n",
    "print(f\"After OneHot Encoding X independent variables: \\n{X_independent_variables}\\n\")"
   ]
  },
  {
   "cell_type": "markdown",
   "metadata": {},
   "source": [
    "6. Label Encoding on caterogical data y dependent variable (OUTPUT)."
   ]
  },
  {
   "cell_type": "code",
   "execution_count": null,
   "metadata": {},
   "outputs": [],
   "source": [
    "# LABEL ENCODING ~ Encoding caterogical data for output/ dependent variable (direct encoding -> 0, 1 or 2)).\n",
    "label_encoder = LabelEncoder()\n",
    "label_encoder.fit(y_dependent_variable)\n",
    "y_dependent_variable = label_encoder.transform(y_dependent_variable)\n",
    "\n",
    "print(f\"After Label Encoding y dependent variable: {y_dependent_variable}\\n\")"
   ]
  }
 ],
 "metadata": {
  "kernelspec": {
   "display_name": "Python 3",
   "language": "python",
   "name": "python3"
  },
  "language_info": {
   "codemirror_mode": {
    "name": "ipython",
    "version": 3
   },
   "file_extension": ".py",
   "mimetype": "text/x-python",
   "name": "python",
   "nbconvert_exporter": "python",
   "pygments_lexer": "ipython3",
   "version": "3.10.4"
  },
  "orig_nbformat": 4
 },
 "nbformat": 4,
 "nbformat_minor": 2
}
