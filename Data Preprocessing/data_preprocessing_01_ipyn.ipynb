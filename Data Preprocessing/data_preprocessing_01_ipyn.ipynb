{
  "nbformat": 4,
  "nbformat_minor": 0,
  "metadata": {
    "colab": {
      "provenance": []
    },
    "kernelspec": {
      "name": "python3",
      "display_name": "Python 3"
    }
  },
  "cells": [
    {
      "cell_type": "markdown",
      "source": [
        "**Data Preprocessing**"
      ],
      "metadata": {
        "id": "S5yR9OxpXvR2"
      }
    },
    {
      "cell_type": "markdown",
      "source": [
        "1. Importing libraries (Pandas, NumPy, SimpleImputer from Scit-kit learn)."
      ],
      "metadata": {
        "id": "kmV2-ytixcu6"
      }
    },
    {
      "cell_type": "code",
      "source": [
        "import pandas as pd\n",
        "import numpy as np\n",
        "from sklearn.impute import SimpleImputer"
      ],
      "metadata": {
        "id": "0zti5kMaYXHv"
      },
      "execution_count": 1,
      "outputs": []
    },
    {
      "cell_type": "markdown",
      "source": [
        "2. Reading data from \".csv\" file."
      ],
      "metadata": {
        "id": "aWqataZ6xruW"
      }
    },
    {
      "cell_type": "code",
      "source": [
        "dataset = pd.read_csv(\"Data.csv\")"
      ],
      "metadata": {
        "id": "0Hg3FAigxzaJ"
      },
      "execution_count": 2,
      "outputs": []
    },
    {
      "cell_type": "markdown",
      "source": [
        "3. Getting Matrix of features/ independent variables (X) and dependent variable (y)."
      ],
      "metadata": {
        "id": "SkIt_qucx_0u"
      }
    },
    {
      "cell_type": "code",
      "source": [
        "X_independent_variables = dataset.iloc[:, :-1].values # Matrix of features - X.\n",
        "y_dependent_variable = dataset.iloc[:, -1].values # Dependent variable - y.\n",
        "\n",
        "print(f\"\\nIndependent variables: \\n{X_independent_variables}\")\n",
        "print(f\"Dependent variable: \\n{y_dependent_variable}\\n\")"
      ],
      "metadata": {
        "colab": {
          "base_uri": "https://localhost:8080/"
        },
        "id": "5oNNj-ruyIwt",
        "outputId": "21b3403e-6976-4270-cd8f-19966136a510"
      },
      "execution_count": 12,
      "outputs": [
        {
          "output_type": "stream",
          "name": "stdout",
          "text": [
            "\n",
            "Independent variables: \n",
            "[['France' 44.0 72000.0]\n",
            " ['Spain' 27.0 48000.0]\n",
            " ['Germany' 30.0 54000.0]\n",
            " ['Spain' 38.0 61000.0]\n",
            " ['Germany' 40.0 nan]\n",
            " ['France' 35.0 58000.0]\n",
            " ['Spain' nan 52000.0]\n",
            " ['France' 48.0 79000.0]\n",
            " ['Germany' 50.0 83000.0]\n",
            " ['France' 37.0 67000.0]]\n",
            "Dependent variable: \n",
            "['No' 'Yes' 'No' 'No' 'Yes' 'Yes' 'No' 'Yes' 'No' 'Yes']\n",
            "\n"
          ]
        }
      ]
    },
    {
      "cell_type": "markdown",
      "source": [
        "4. Replacing **\"NaN\"** values by mean of values ~ Replacing values in columns by using **SimpleImputer from Sklearn**."
      ],
      "metadata": {
        "id": "Es51jkMgyih5"
      }
    },
    {
      "cell_type": "code",
      "source": [
        "imputer = SimpleImputer(missing_values=np.nan, strategy=\"mean\")\n",
        "imputer.fit(X_independent_variables[:, 1:3])\n",
        "X_independent_variables[:, 1:3]=imputer.transform(X_independent_variables[:, 1:3])\n",
        "\n",
        "print(f\"X (Matrix of Features/ Independent variables): \\n{X_independent_variables}\\n\")"
      ],
      "metadata": {
        "colab": {
          "base_uri": "https://localhost:8080/"
        },
        "id": "wMh__fQDyrsm",
        "outputId": "f069931e-5692-4f4c-9f2a-e68cdfb57a53"
      },
      "execution_count": 15,
      "outputs": [
        {
          "output_type": "stream",
          "name": "stdout",
          "text": [
            "X (Matrix of Features/ Independent variables): \n",
            "[['France' 44.0 72000.0]\n",
            " ['Spain' 27.0 48000.0]\n",
            " ['Germany' 30.0 54000.0]\n",
            " ['Spain' 38.0 61000.0]\n",
            " ['Germany' 40.0 63777.77777777778]\n",
            " ['France' 35.0 58000.0]\n",
            " ['Spain' 38.77777777777778 52000.0]\n",
            " ['France' 48.0 79000.0]\n",
            " ['Germany' 50.0 83000.0]\n",
            " ['France' 37.0 67000.0]]\n",
            "\n"
          ]
        }
      ]
    }
  ]
}